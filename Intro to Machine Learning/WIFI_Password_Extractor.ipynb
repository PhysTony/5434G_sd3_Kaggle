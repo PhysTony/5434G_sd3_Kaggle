{
 "cells": [
  {
   "cell_type": "markdown",
   "metadata": {},
   "source": [
    "in CMD type the folowwing codes\n",
    "\n",
    "<ol>\n",
    "<li>See all profiles or wifi names that the current device has been connected: **netsh wlan show profiles**</li>\n",
    "<li>See profile description from a specific wifi: **netsh wlan show profile _wifi-name_**</li>\n",
    "<li>See password from a specific profile: **netsh wlan show profile _wifi-name_ key=clear**</li>\n",
    "</ol>"
   ]
  },
  {
   "cell_type": "code",
   "execution_count": 1,
   "metadata": {},
   "outputs": [],
   "source": [
    "import subprocess"
   ]
  },
  {
   "cell_type": "code",
   "execution_count": 8,
   "metadata": {},
   "outputs": [
    {
     "name": "stdout",
     "output_type": "stream",
     "text": [
      "\r\n",
      "Perfiles en la interfaz  Wi-Fi:\r\n",
      "\r\n",
      "Perfiles de directiva de grupo (solo lectura)\r\n",
      "---------------------------------------------\r\n",
      "    <Ninguno>\r\n",
      "\r\n",
      "Perfiles de usuario\r\n",
      "-------------------\r\n",
      "    Perfil de todos los usuarios     : El_Abelo\r\n",
      "    Perfil de todos los usuarios     : El_Abelo_EXT\r\n",
      "    Perfil de todos los usuarios     : BigPapa\r\n",
      "    Perfil de todos los usuarios     : AMGNET20\r\n",
      "    Perfil de todos los usuarios     : Huawei-HG8245H-E52F\r\n",
      "\r\n",
      "\n"
     ]
    }
   ],
   "source": [
    "# 1:\n",
    "data = subprocess.check_output(['netsh','wlan','show','profiles']).decode('utf-8')\n",
    "print(data)"
   ]
  },
  {
   "cell_type": "code",
   "execution_count": 13,
   "metadata": {},
   "outputs": [
    {
     "name": "stdout",
     "output_type": "stream",
     "text": [
      "['\\r', 'Perfiles en la interfaz  Wi-Fi:\\r', '\\r', 'Perfiles de directiva de grupo (solo lectura)\\r', '---------------------------------------------\\r', '    <Ninguno>\\r', '\\r', 'Perfiles de usuario\\r', '-------------------\\r', '    Perfil de todos los usuarios     : El_Abelo\\r', '    Perfil de todos los usuarios     : El_Abelo_EXT\\r', '    Perfil de todos los usuarios     : BigPapa\\r', '    Perfil de todos los usuarios     : AMGNET20\\r', '    Perfil de todos los usuarios     : Huawei-HG8245H-E52F\\r', '\\r', '']\n"
     ]
    }
   ],
   "source": [
    "data = subprocess.check_output(['netsh','wlan','show','profiles']).decode('utf-8').split('\\n')\n",
    "print(data)"
   ]
  },
  {
   "cell_type": "code",
   "execution_count": 12,
   "metadata": {},
   "outputs": [
    {
     "name": "stdout",
     "output_type": "stream",
     "text": [
      "[' El_Abelo\\r', ' El_Abelo_EXT\\r', ' BigPapa\\r', ' AMGNET20\\r', ' Huawei-HG8245H-E52F\\r']\n"
     ]
    }
   ],
   "source": [
    "data = subprocess.check_output(['netsh','wlan','show','profiles']).decode('utf-8').split('\\n')\n",
    "wifis = [line.split(':')[1] for line in data if 'Perfil de todos los usuarios' in line]\n",
    "print(wifis)"
   ]
  },
  {
   "cell_type": "code",
   "execution_count": 15,
   "metadata": {},
   "outputs": [
    {
     "name": "stdout",
     "output_type": "stream",
     "text": [
      "['El_Abelo', 'El_Abelo_EXT', 'BigPapa', 'AMGNET20', 'Huawei-HG8245H-E52F']\n"
     ]
    }
   ],
   "source": [
    "data = subprocess.check_output(['netsh','wlan','show','profiles']).decode('utf-8').split('\\n')\n",
    "wifis = [line.split(':')[1][1:-1] for line in data if 'Perfil de todos los usuarios' in line]\n",
    "print(wifis)"
   ]
  },
  {
   "cell_type": "code",
   "execution_count": 24,
   "metadata": {},
   "outputs": [
    {
     "name": "stdout",
     "output_type": "stream",
     "text": [
      "Name: El_Abelo, Password: Cannot be read!\n",
      "Name: El_Abelo_EXT, Password: Cannot be read!\n",
      "Name: BigPapa, Password: Cannot be read!\n",
      "Name: AMGNET20, Password: Cannot be read!\n",
      "Name: Huawei-HG8245H-E52F, Password: Cannot be read!\n"
     ]
    }
   ],
   "source": [
    "for wifi in wifis:\n",
    "    results = subprocess.check_output(['netsh','wlan','show','profiles',wifi,'key=clear']).decode('unicode_escape').split('\\n')\n",
    "    results = [line.split(':')[1][1:-1] for line in results if 'Key Content' in line]\n",
    "    \n",
    "    try:\n",
    "        print(f'Name: {wifi}, Password: {results[0]}')\n",
    "    except IndexError:\n",
    "        print(f'Name: {wifi}, Password: Cannot be read!')"
   ]
  }
 ],
 "metadata": {
  "kernelspec": {
   "display_name": "Python 3",
   "language": "python",
   "name": "python3"
  },
  "language_info": {
   "codemirror_mode": {
    "name": "ipython",
    "version": 3
   },
   "file_extension": ".py",
   "mimetype": "text/x-python",
   "name": "python",
   "nbconvert_exporter": "python",
   "pygments_lexer": "ipython3",
   "version": "3.8.3"
  }
 },
 "nbformat": 4,
 "nbformat_minor": 4
}
